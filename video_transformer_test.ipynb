{
 "cells": [
  {
   "cell_type": "markdown",
   "metadata": {},
   "source": [
    "**Purpose:**\n",
    "This notebook should consist of our methods of detecting faces and adding effects on top on them in a video.\n",
    "\n",
    "**Logs:**\n",
    "- May 3, 2021: Write a class to wrap the face detection and mean blur effect."
   ]
  },
  {
   "cell_type": "code",
   "execution_count": 88,
   "metadata": {
    "ExecuteTime": {
     "end_time": "2021-05-03T22:40:52.833876Z",
     "start_time": "2021-05-03T22:40:52.816262Z"
    }
   },
   "outputs": [
    {
     "name": "stdout",
     "output_type": "stream",
     "text": [
      "Populating the interactive namespace from numpy and matplotlib\n"
     ]
    }
   ],
   "source": [
    "%pylab inline \n",
    "import face_recognition\n",
    "import cv2\n",
    "import matplotlib.patches as patches\n",
    "from IPython.display import clear_output\n",
    "from matplotlib.pyplot import imshow\n",
    "import matplotlib.pylab as plt\n",
    "from PIL import Image, ImageDraw\n",
    "import imageio\n",
    "from itertools import product"
   ]
  },
  {
   "cell_type": "code",
   "execution_count": 89,
   "metadata": {
    "ExecuteTime": {
     "end_time": "2021-05-03T22:40:53.343568Z",
     "start_time": "2021-05-03T22:40:53.337608Z"
    }
   },
   "outputs": [],
   "source": [
    "import os\n",
    "path = os.getcwd()\n",
    "file = \"girl.gif\"\n",
    "data_path = os.path.join(path, \"data\", file)\n",
    "# print(Dat)"
   ]
  },
  {
   "cell_type": "code",
   "execution_count": 90,
   "metadata": {
    "ExecuteTime": {
     "end_time": "2021-05-03T22:40:53.861716Z",
     "start_time": "2021-05-03T22:40:53.833859Z"
    }
   },
   "outputs": [],
   "source": [
    "class video_transformer():\n",
    "    def __init__(self, \n",
    "                 video_path, save_path, file_name,\n",
    "                 display=False):\n",
    "        self.video_path = video_path\n",
    "        self.display = display\n",
    "        self.save_path = save_path\n",
    "        self.file_name = file_name\n",
    "        self.num_frames = 0\n",
    "        \n",
    "    # detect the faces in each frame and add effect on it\n",
    "    def main_transformation(self, face_detection_model, filter_effect):\n",
    "        video_capture = cv2.VideoCapture(self.video_path)\n",
    "        frame_count = 0\n",
    "        while video_capture.isOpened():    \n",
    "            # Grab a single frame of video\n",
    "            ret, frame = video_capture.read()\n",
    "            \n",
    "            # Bail out when the video file ends\n",
    "            if not ret:\n",
    "                video_capture.release()\n",
    "                break\n",
    "\n",
    "            # We will search face in every 15 frames to speed up process.\n",
    "            frame_count += 1\n",
    "            \n",
    "            # detect faces\n",
    "            face_locations = self.face_detection(frame, \n",
    "                                                 model=face_detection_model)\n",
    "            \n",
    "            # add effect\n",
    "            after_effect_frame = filter_effect(frame, face_locations)\n",
    "    \n",
    "            if self.display and frame_count % 2 == 0:\n",
    "               # If faces were found, we will mark it on frame with blue dots\n",
    "                for face_location in face_locations:\n",
    "                    top, right, bottom, left = face_location\n",
    "                    cv2.rectangle(after_effect_frame,(left, top), (right, bottom), (0, 0, 255), 2)\n",
    "                    plt.imshow(after_effect_frame)\n",
    "                    plt.show()\n",
    "                    # for continuity\n",
    "                    clear_output(wait=True)\n",
    "            \n",
    "            im = Image.fromarray(after_effect_frame)\n",
    "            im.save(os.path.join(self.save_path, f\"{self.file_name}_prcs_{frame_count}.png\"))\n",
    "                \n",
    "        self.num_frames = frame_count\n",
    "    # returns the face_locations of one particular frame\n",
    "    def face_detection(self, frame, model='svm'):\n",
    "        frame = cv2.cvtColor(frame, cv2.COLOR_BGR2RGB)\n",
    "        rgb_frame = frame[:, :, ::-1]\n",
    "        face_locations = face_recognition.face_locations(rgb_frame, model=model)\n",
    "    \n",
    "        return face_locations\n",
    "    \n",
    "    def oil_effect(self, frame):\n",
    "        pass\n",
    "    \n",
    "    def negative_effect(self, frame):\n",
    "        pass\n",
    "    \n",
    "    def filter_effect_cython(self, frame):\n",
    "        pass\n",
    "    \n",
    "    # simple mosaic effect\n",
    "    def mean_blur(self, frame, locations, radius=5):\n",
    "        k = 1 / (radius*2+1)**2\n",
    "        des_img = np.copy(frame)\n",
    "        for location in locations:\n",
    "            top, right, bottom, left = location\n",
    "            t_ = top+radius\n",
    "            b_ = bottom-radius\n",
    "            l_ = left+radius\n",
    "            r_ = right-radius\n",
    "            if t_ >= b_ or l_ >= r_:\n",
    "                continue\n",
    "            \n",
    "            for i, j in product(range(t_, b_), range(l_, r_)):\n",
    "                kernel = frame[i-radius:i+radius+1, j-radius:j+radius+1, :]\n",
    "                sumed = np.sum(kernel, axis = (0,1)) * k\n",
    "                des_img[i, j] = sumed.astype(np.uint8)\n",
    "        \n",
    "        return des_img\n",
    "    \n",
    "    # construct transformed gif\n",
    "    def output(self):\n",
    "        images = []\n",
    "        frames_count = list(range(1,self.num_frames))\n",
    "        \n",
    "        for i in frames_count:\n",
    "            try:\n",
    "                images.append(imageio.imread(\n",
    "                    os.path.join(self.save_path, f\"{self.file_name}_prcs_{i}.png\")))\n",
    "            except:\n",
    "                pass\n",
    "        imageio.mimsave(os.path.join(self.save_path, f\"{self.file_name}_prcs.gif\"), images)"
   ]
  },
  {
   "cell_type": "code",
   "execution_count": 91,
   "metadata": {
    "ExecuteTime": {
     "end_time": "2021-05-03T22:40:58.739835Z",
     "start_time": "2021-05-03T22:40:54.355215Z"
    }
   },
   "outputs": [],
   "source": [
    "case_1 = video_transformer(video_path = data_path,\n",
    "                           save_path = os.path.join(path, \"data\", \"frames\"),\n",
    "                           file_name = 'girl.gif',\n",
    "                           display=False)\n",
    "case_1.main_transformation(\"knn\", case_1.mean_blur)\n",
    "case_1.output()"
   ]
  },
  {
   "cell_type": "code",
   "execution_count": null,
   "metadata": {},
   "outputs": [],
   "source": []
  }
 ],
 "metadata": {
  "kernelspec": {
   "display_name": "Python 3",
   "language": "python",
   "name": "python3"
  },
  "language_info": {
   "codemirror_mode": {
    "name": "ipython",
    "version": 3
   },
   "file_extension": ".py",
   "mimetype": "text/x-python",
   "name": "python",
   "nbconvert_exporter": "python",
   "pygments_lexer": "ipython3",
   "version": "3.7.10"
  }
 },
 "nbformat": 4,
 "nbformat_minor": 2
}
