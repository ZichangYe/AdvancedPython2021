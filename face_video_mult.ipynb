{
 "cells": [
  {
   "cell_type": "code",
   "execution_count": null,
   "id": "banned-reputation",
   "metadata": {},
   "outputs": [],
   "source": [
    "from multiprocessing.pool import Pool\n",
    "import numpy as np\n",
    "import face_recognition\n",
    "import os\n",
    "import cv2\n",
    "import matplotlib.patches as patches\n",
    "from IPython.display import clear_output\n",
    "from matplotlib.pyplot import imshow\n",
    "import matplotlib.pylab as plt\n",
    "path = os.getcwd()\n",
    "import time\n",
    "\n",
    "frames = []\n",
    "video_capture = cv2.VideoCapture(path+\"data/hamilton_clip.mp4\")\n",
    "while video_capture.isOpened():    \n",
    "    # Grab a single frame of video\n",
    "    ret, frame = video_capture.read()\n",
    "\n",
    "    # Bail out when the video file ends\n",
    "    if not ret:\n",
    "        video_capture.release()\n",
    "        break\n",
    "        \n",
    "    # We will search face in every 15 frames to speed up process.\n",
    "    frames.append(frame)\n",
    "\n",
    "def mult (input_values):\n",
    "    frame_count = 0\n",
    "    for frame in input_values:\n",
    "        # We will search face in every 15 frames to speed up process.\n",
    "        frame_count += 1\n",
    "        if frame_count % 15 == 0:    \n",
    "            frame = cv2.cvtColor(frame, cv2.COLOR_BGR2RGB)\n",
    "        \n",
    "        # Display video frame\n",
    "           # title(\"Input Stream\")\n",
    "           # plt.imshow(frame)        \n",
    "\n",
    "        # Find all the faces and face encodings in the current frame of video\n",
    "            rgb_frame = frame[:, :, ::-1]\n",
    "            face_locations = face_recognition.face_locations(rgb_frame)\n",
    "\n",
    "        # Show frame...\n",
    "           # plt.show() \n",
    "            # ... and hold it until a new frame appears\n",
    "            clear_output(wait=True)\n",
    "\n",
    "N = 4\n",
    "chunk = list(np.array_split(frames, N))\n",
    "\n",
    "ts = time.time()\n",
    "with Pool(N) as p:\n",
    "      results = p.map(mult, chunk)\n",
    "\n",
    "print(time.time()-ts,'s') "
   ]
  }
 ],
 "metadata": {
  "kernelspec": {
   "display_name": "Python 3",
   "language": "python",
   "name": "python3"
  },
  "language_info": {
   "codemirror_mode": {
    "name": "ipython",
    "version": 3
   },
   "file_extension": ".py",
   "mimetype": "text/x-python",
   "name": "python",
   "nbconvert_exporter": "python",
   "pygments_lexer": "ipython3",
   "version": "3.7.6"
  }
 },
 "nbformat": 4,
 "nbformat_minor": 5
}
